{
 "cells": [
  {
   "cell_type": "markdown",
   "id": "dc6e2438",
   "metadata": {},
   "source": [
    " # Credit Card Approvals\n",
    " The goal of collecting of this dataset to predict which people in the dataset are successful in applying for a credit card.\n",
    " \n",
    " Here is the data source link:\n",
    "[Dataset Source](https://www.kaggle.com/datasets/samuelcortinhas/credit-card-approval-clean-data)\n",
    "\n",
    "the dataset contains 16 attribute and 691 rows.\n",
    "### Dataset Attributes:\n",
    "* Gender (binary)\n",
    "* Age(numeric interval)\n",
    "* Debt(numeric interval)\n",
    "* Married(binary)\n",
    "* BankCustomer(binary)\n",
    "* industry(nominal)\n",
    "* Ethnicity(nominal)\n",
    "* YearsEmployed(numeric interval)\n",
    "* PriorDefault(binary)\n",
    "* Employed(binary)\n",
    "* CreditScore(numeric ratio)\n",
    "* DriverLicense(binary)\n",
    "* Citizen(nominal)\n",
    "* Zipcode(nominal)\n",
    "* Income(numeric ratio)\n",
    "* Approved(class label)(binary)\n",
    "      "
   ]
  },
  {
   "cell_type": "code",
   "execution_count": null,
   "id": "9b484c4f",
   "metadata": {},
   "outputs": [],
   "source": []
  },
  {
   "cell_type": "code",
   "execution_count": null,
   "id": "3a82e1a6",
   "metadata": {},
   "outputs": [],
   "source": []
  }
 ],
 "metadata": {
  "kernelspec": {
   "display_name": "R",
   "language": "R",
   "name": "ir"
  },
  "language_info": {
   "codemirror_mode": "r",
   "file_extension": ".r",
   "mimetype": "text/x-r-source",
   "name": "R",
   "pygments_lexer": "r",
   "version": "3.6.1"
  }
 },
 "nbformat": 4,
 "nbformat_minor": 5
}
